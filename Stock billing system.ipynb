{
 "cells": [
  {
   "cell_type": "markdown",
   "id": "a9bd9716-a45b-47c3-a8bd-6740f5156ab9",
   "metadata": {},
   "source": [
    "# Stock billing System"
   ]
  },
  {
   "cell_type": "code",
   "execution_count": 3,
   "id": "6e98f92b-a2f0-413b-936c-18ea901cda28",
   "metadata": {},
   "outputs": [
    {
     "name": "stdin",
     "output_type": "stream",
     "text": [
      "enter the size: 3\n",
      "enter the unique number : 101\n",
      "enter the product name : Book\n",
      "enter the Book Quantity : 200\n",
      "enter the single Book price : 250\n",
      "Do you want Add more [Y/N]: y\n"
     ]
    },
    {
     "name": "stdout",
     "output_type": "stream",
     "text": [
      "Yes\n"
     ]
    },
    {
     "name": "stdin",
     "output_type": "stream",
     "text": [
      "enter the unique number : 102\n",
      "enter the product name : Toy\n",
      "enter the Toy Quantity : 100\n",
      "enter the single Toy price : 200\n",
      "Do you want Add more [Y/N]: y\n"
     ]
    },
    {
     "name": "stdout",
     "output_type": "stream",
     "text": [
      "Yes\n"
     ]
    },
    {
     "name": "stdin",
     "output_type": "stream",
     "text": [
      "enter the unique number : 103\n",
      "enter the product name : Samosa\n",
      "enter the Samosa Quantity : 150\n",
      "enter the single Samosa price : 100\n",
      "Do you want Add more [Y/N]: n\n"
     ]
    },
    {
     "name": "stdout",
     "output_type": "stream",
     "text": [
      "NO\n"
     ]
    },
    {
     "name": "stdin",
     "output_type": "stream",
     "text": [
      "enter the product item from SKU_number: 104\n"
     ]
    },
    {
     "name": "stdout",
     "output_type": "stream",
     "text": [
      "NOT Found,Please enter a valid SKU number :\n"
     ]
    },
    {
     "name": "stdin",
     "output_type": "stream",
     "text": [
      "enter the product item from SKU_number: 102\n"
     ]
    },
    {
     "name": "stdout",
     "output_type": "stream",
     "text": [
      "------------------------------\n",
      "Product = Toy\n",
      "Total = 20000/-\n",
      "QT = 100\n",
      "Single Price = 200/-\n"
     ]
    }
   ],
   "source": [
    "SKU_number = []\n",
    "product = []\n",
    "price = []\n",
    "Quantity =[]\n",
    "size = int(input(\"enter the size:\"))\n",
    "\n",
    "for i in range(size):\n",
    "    i = int(input(\"enter the unique number :\"))\n",
    "    SKU_number.append(i)\n",
    "    i = input(\"enter the product name :\")\n",
    "    product.append(i)\n",
    "    QT = int(input(f'enter the {i} Quantity :'))\n",
    "    Quantity.append(QT)\n",
    "    i = int(input(f\"enter the single {i} price :\"))\n",
    "    price.append(i)\n",
    "    user = input(\"Do you want Add more [Y/N]:\")\n",
    "    if user == 'Y' or user == 'y':\n",
    "        print('Yes')\n",
    "    else:\n",
    "        print('NO')\n",
    "        break\n",
    "\n",
    "while True:\n",
    "    number=int(input(\"enter the product item from SKU_number:\"))\n",
    "    if number in SKU_number:\n",
    "        index = SKU_number.index(number)\n",
    "        prod_name = product[index]\n",
    "        quantity = Quantity[index]\n",
    "        single_price = price[index] \n",
    "        total = Quantity[index] * price[index]\n",
    "        print('-'*30)\n",
    "        print(f\"Product = {prod_name}\")\n",
    "        print(f\"Total = {total}/-\")\n",
    "        print(f\"QT = {quantity}\")\n",
    "        print(f\"Single Price = {single_price}/-\")\n",
    "        break\n",
    "    else:\n",
    "        print(\"NOT Found,Please enter a valid SKU number :\")"
   ]
  }
 ],
 "metadata": {
  "kernelspec": {
   "display_name": "Python 3 (ipykernel)",
   "language": "python",
   "name": "python3"
  },
  "language_info": {
   "codemirror_mode": {
    "name": "ipython",
    "version": 3
   },
   "file_extension": ".py",
   "mimetype": "text/x-python",
   "name": "python",
   "nbconvert_exporter": "python",
   "pygments_lexer": "ipython3",
   "version": "3.12.7"
  }
 },
 "nbformat": 4,
 "nbformat_minor": 5
}
